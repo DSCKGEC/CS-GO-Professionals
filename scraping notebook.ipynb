{
 "cells": [
  {
   "cell_type": "code",
   "execution_count": null,
   "id": "24ece33a",
   "metadata": {},
   "outputs": [],
   "source": [
    "# Import all packages\n",
    "\n",
    "import bs4    # BeautifulSoup is used to scrape websites by parsing the HTML\n",
    "import requests # Requests is used to make HTTP requests\n",
    "import pandas as pd # Pandas is used to create \"dataframes\" which are used for data analysis"
   ]
  },
  {
   "cell_type": "code",
   "execution_count": 8,
   "id": "9c7fd6a2",
   "metadata": {},
   "outputs": [],
   "source": [
    "# Making a request to the URL to get the entire HTML of the page\n",
    "\n",
    "URL=\"https://www.hltv.org/stats/players?rankingFilter=Top30&minMapCount=150\" # URL of the page to be scraped\n",
    "HEADER = {'User-Agent': 'Mozilla/5.0 (Windows; U; Windows NT 5.1; en-US; rv:1.9.0.7) Gecko/2009021910 Firefox/3.0.7'} # This is used to prevent the website from blocking the scraper\n",
    "res = requests.get(URL, headers=HEADER) # This is the request to the URL with the headers passed in as a parameter\n",
    "res.status_code # This will return the status code of the request (200 if okay)"
   ]
  },
  {
   "cell_type": "code",
   "execution_count": 12,
   "id": "b7046542",
   "metadata": {},
   "outputs": [],
   "source": [
    "# Parsing the HTML of the page\n",
    "\n",
    "text=res.content # This is the HTML of the page\n",
    "soup= bs4.BeautifulSoup(text) # This is the BeautifulSoup object that will be used to parse the HTML\n",
    "soup.title.text, soup.h1.text # This will return the title and h1 of the page"
   ]
  },
  {
   "cell_type": "code",
   "execution_count": 16,
   "id": "3bf59aa4",
   "metadata": {},
   "outputs": [],
   "source": [
    "# Checking total number of tables to be scraped\n",
    "\n",
    "player_table= soup.find_all('table', attrs={\"class\": \"stats-table player-ratings-table\"}) # This is the table that contains the player data\n",
    "len(player_table) # This will return the number of tables that were found\n",
    "player_table=player_table[0] # This is the first and only table in the list of tables"
   ]
  },
  {
   "cell_type": "code",
   "execution_count": 30,
   "id": "e5fa1788",
   "metadata": {},
   "outputs": [],
   "source": [
    "# Dividing the tale\n",
    "\n",
    "header= player_table.find(\"thead\") # This is the header of the table\n",
    "details= player_table.find(\"tbody\") # This is the body of the table"
   ]
  },
  {
   "cell_type": "code",
   "execution_count": null,
   "id": "9cf2cc7a",
   "metadata": {},
   "outputs": [],
   "source": [
    "# Checking out the header to see structure and number of columns in the\n",
    "header "
   ]
  },
  {
   "cell_type": "code",
   "execution_count": 40,
   "id": "66ab0fa1",
   "metadata": {},
   "outputs": [],
   "source": [
    "# We will look for all table rows in details and then look for all table cells in each row\n",
    "\n",
    "details= details.find_all(\"tr\") # This is the list of table rows"
   ]
  },
  {
   "cell_type": "code",
   "execution_count": null,
   "id": "c8022a2f",
   "metadata": {},
   "outputs": [],
   "source": [
    "# Define the columns of the dataframe with meaningful names\n",
    "\n",
    "# WRITE DOWN YOUR CODE HERE\n",
    "############################\n",
    "\n",
    "\n",
    "############################"
   ]
  },
  {
   "cell_type": "code",
   "execution_count": 149,
   "id": "7d3c34b6",
   "metadata": {},
   "outputs": [],
   "source": [
    "list=[]\n",
    "for tr in details:\n",
    "    #name\n",
    "    name= tr.find_all('td', attrs={\"class\": \"playerCol\"})[0].find(\"a\").text\n",
    "    #teams\n",
    "    teams= []\n",
    "    team_td= tr.find_all('td', attrs={\"class\": \"teamCol\"})[0].find_all(\"a\")\n",
    "    for a in team_td:\n",
    "        teams.append(a.find(\"img\").get(\"title\"))\n",
    "    #maps played\n",
    "    no_of_maps= tr.find_all('td', attrs={\"class\": \"statsDetail\"})[0].text\n",
    "    #rounds played\n",
    "    no_of_rounds= tr.find_all('td', attrs={\"class\": \"gtSmartphone-only\"})[0].text\n",
    "    #kd difference\n",
    "    kd_difference= tr.find_all('td', attrs={\"class\": \"kdDiffCol\"})[0].text\n",
    "    #k/d\n",
    "    kd= tr.find_all('td', attrs={\"class\": \"statsDetail\"})[2].text\n",
    "    #HLTV Rating\n",
    "    hltv_rating= tr.find_all('td', attrs={\"class\": \"ratingCol\"})[0].text\n",
    "    #creating element\n",
    "    element={\n",
    "        # define the dictionary\n",
    "        # WRITE DOWN YOUR CODE HERE\n",
    "        ############################\n",
    "\n",
    "\n",
    "        ############################\n",
    "    }\n",
    "    #print(element)\n",
    "    #appending element\n",
    "    list.append(element)"
   ]
  },
  {
   "cell_type": "code",
   "execution_count": 162,
   "id": "e8281596",
   "metadata": {},
   "outputs": [],
   "source": [
    "# Convert List of Dictionaries to DataFrame\n",
    "# WRITE DOWN YOUR CODE HERE\n",
    "############################\n",
    "\n",
    "\n",
    "############################"
   ]
  },
  {
   "cell_type": "code",
   "execution_count": 115,
   "id": "4cd6b6c2",
   "metadata": {},
   "outputs": [],
   "source": [
    "# Convert the HLTV Rating to a float\n",
    "# WRITE DOWN YOUR CODE HERE\n",
    "############################\n",
    "\n",
    "\n",
    "############################"
   ]
  },
  {
   "cell_type": "code",
   "execution_count": 135,
   "id": "07c07435",
   "metadata": {},
   "outputs": [],
   "source": [
    "def prettier(list): # This is a function that will be used to format the dataframe\n",
    "    return list[1:-1]"
   ]
  },
  {
   "cell_type": "code",
   "execution_count": 163,
   "id": "ac10aecc",
   "metadata": {},
   "outputs": [],
   "source": [
    "# Format the Teams Played In a list\n",
    "# WRITE DOWN YOUR CODE HERE\n",
    "############################\n",
    "\n",
    "\n",
    "############################"
   ]
  },
  {
   "cell_type": "code",
   "execution_count": 176,
   "id": "b949ce55",
   "metadata": {},
   "outputs": [],
   "source": [
    "# Export the dataframe as a CSV/Excel file with index=False\n",
    "# path should be \"./\"\n",
    "# WRITE DOWN YOUR CODE HERE\n",
    "############################\n",
    "\n",
    "\n",
    "############################"
   ]
  }
 ],
 "metadata": {
  "kernelspec": {
   "display_name": "Python 3.9.7 64-bit",
   "language": "python",
   "name": "python3"
  },
  "language_info": {
   "codemirror_mode": {
    "name": "ipython",
    "version": 3
   },
   "file_extension": ".py",
   "mimetype": "text/x-python",
   "name": "python",
   "nbconvert_exporter": "python",
   "pygments_lexer": "ipython3",
   "version": "3.9.7"
  },
  "vscode": {
   "interpreter": {
    "hash": "81794d4967e6c3204c66dcd87b604927b115b27c00565d3d43f05ba2f3a2cb0d"
   }
  }
 },
 "nbformat": 4,
 "nbformat_minor": 5
}
